{
 "cells": [
  {
   "cell_type": "code",
   "execution_count": 12,
   "metadata": {},
   "outputs": [],
   "source": [
    "import os\n",
    "from PIL import Image\n",
    "import matplotlib.pyplot as plt\n",
    "import numpy as np"
   ]
  },
  {
   "cell_type": "code",
   "execution_count": 26,
   "metadata": {},
   "outputs": [
    {
     "data": {
      "image/png": "[encoded data removed]",
      "text/plain": [
       "<Figure size 432x288 with 1 Axes>"
      ]
     },
     "metadata": {
      "needs_background": "light"
     },
     "output_type": "display_data"
    }
   ],
   "source": [
    "file_path = os.path.join('C:\\Users\\Alex\\Desktop\\Image', '1546905600_truecolor.png')\n",
    "\n",
    "sat_ = Image.open(file_path)\n",
    "plt.imshow(sat_)\n",
    "plt.show()"
   ]
  },
  {
   "cell_type": "code",
   "execution_count": 64,
   "metadata": {},
   "outputs": [
    {
     "data": {
      "text/plain": [
       "(array([ 90., 380., 401., 242.,  70.,  58.,  53.,  26.,  12.,   9.,  10.,\n",
       "          6.,   4.,   0.,   4.,   2.,   3.,   2.,   3.,   5.]),\n",
       " array([ 85. ,  86.1,  87.2,  88.3,  89.4,  90.5,  91.6,  92.7,  93.8,\n",
       "         94.9,  96. ,  97.1,  98.2,  99.3, 100.4, 101.5, 102.6, 103.7,\n",
       "        104.8, 105.9, 107. ]),\n",
       " <a list of 20 Patch objects>)"
      ]
     },
     "execution_count": 64,
     "metadata": {},
     "output_type": "execute_result"
    },
    {
     "data": {
      "image/png": "[encoded data removed]",
      "text/plain": [
       "<Figure size 432x288 with 1 Axes>"
      ]
     },
     "metadata": {
      "needs_background": "light"
     },
     "output_type": "display_data"
    }
   ],
   "source": [
    "R = []\n",
    "for i in range(0, sat_ar.shape[0], 1):\n",
    "    R.extend([x for x in sat_ar[i, :, 2] if x != 0])\n",
    "\n",
    "R = np.array(R)\n",
    "\n",
    "plt.hist(R, bins=20)"
   ]
  },
  {
   "cell_type": "code",
   "execution_count": 43,
   "metadata": {},
   "outputs": [
    {
     "name": "stdout",
     "output_type": "stream",
     "text": [
      "(70L, 39L, 4L)\n",
      "(70L, 39L, 3L)\n"
     ]
    },
    {
     "data": {
      "text/plain": [
       "[['10_22', 86, 101, 93], ['11_22', 86, 99, 93]]"
      ]
     },
     "execution_count": 43,
     "metadata": {},
     "output_type": "execute_result"
    }
   ],
   "source": [
    "sat_ar = np.array(sat_)\n",
    "print sat_ar.shape\n",
    "\n",
    "sat_ar = sat_ar[:, :, :3]   # удаляем 4-канал - ПРОЗРАЧНОСТЬ\n",
    "print sat_ar.shape\n",
    "sat_ar[10, 22, :]\n",
    "\n",
    "\n",
    "pix_ = []\n",
    "\n",
    "pix_1 = list(sat_ar[10, 22, :])\n",
    "pix_1.insert(0, '10_22')\n",
    "\n",
    "pix_2 = list(sat_ar[11, 22, :])\n",
    "pix_2.insert(0, '11_22')\n",
    "\n",
    "pix_.append(pix_1)\n",
    "pix_.append(pix_2)\n",
    "pix_"
   ]
  }
 ],
 "metadata": {
  "kernelspec": {
   "display_name": "Python 2",
   "language": "python",
   "name": "python2"
  },
  "language_info": {
   "codemirror_mode": {
    "name": "ipython",
    "version": 2
   },
   "file_extension": ".py",
   "mimetype": "text/x-python",
   "name": "python",
   "nbconvert_exporter": "python",
   "pygments_lexer": "ipython2",
   "version": "2.7.15"
  }
 },
 "nbformat": 4,
 "nbformat_minor": 2
}
